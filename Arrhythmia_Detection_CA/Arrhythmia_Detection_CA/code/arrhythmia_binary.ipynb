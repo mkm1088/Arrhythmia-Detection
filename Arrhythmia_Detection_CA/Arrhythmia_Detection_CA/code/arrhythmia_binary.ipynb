{
 "cells": [
  {
   "cell_type": "code",
   "execution_count": 1,
   "metadata": {},
   "outputs": [],
   "source": [
    "import pandas as pd\n",
    "import numpy as np\n",
    "from sklearn.ensemble import RandomForestClassifier, GradientBoostingClassifier, BaggingClassifier\n",
    "from sklearn.model_selection import train_test_split,GridSearchCV\n",
    "from sklearn.metrics import confusion_matrix,classification_report,accuracy_score,roc_auc_score,roc_curve,auc\n",
    "from sklearn.linear_model import LogisticRegression\n",
    "from sklearn.svm import SVC\n",
    "from sklearn.tree import DecisionTreeClassifier\n",
    "from xgboost import XGBClassifier\n",
    "from sklearn.preprocessing import MinMaxScaler\n",
    "from sklearn.feature_selection import RFECV\n",
    "import scikitplot as skplt\n",
    "import matplotlib.pyplot as plt\n",
    "from sklearn.neural_network import MLPClassifier"
   ]
  },
  {
   "cell_type": "raw",
   "metadata": {},
   "source": [
    "# INITIAL FILE LOAD AND PREPROCESSING AND CLEANING STUFFS\n",
    "input = pd.read_csv(r\"D:\\KE Notes\\Clinical Health Analytics\\CA\\arrhythmia.csv\")\n",
    "input_dic = pd.read_csv(r\"D:\\KE Notes\\Clinical Health Analytics\\CA\\arrhythmia_dict.csv\")\n",
    "for col in input_dic.loc[input_dic.col_type == \"nominal\",\"col_name\"]:\n",
    "    input[col] = input[col].astype('category')\n",
    "input.groupby(\"class\").count().Age\n",
    "for i in range(0,452):\n",
    "    for col in input_dic.col_name:\n",
    "        if input.loc[i,col] == '?':\n",
    "            input.loc[i,col] = np.nan\n",
    "input = input.drop(\"J_vect_ang\",axis=1)\n",
    "input = input.dropna(axis=0)\n",
    "input = input.loc[input[\"Ht\"]<200,]\n",
    "input.to_csv(r\"D:\\KE Notes\\Clinical Health Analytics\\CA\\cleaned_input.csv\")"
   ]
  },
  {
   "cell_type": "code",
   "execution_count": 2,
   "metadata": {},
   "outputs": [
    {
     "data": {
      "text/html": [
       "<div>\n",
       "<style scoped>\n",
       "    .dataframe tbody tr th:only-of-type {\n",
       "        vertical-align: middle;\n",
       "    }\n",
       "\n",
       "    .dataframe tbody tr th {\n",
       "        vertical-align: top;\n",
       "    }\n",
       "\n",
       "    .dataframe thead th {\n",
       "        text-align: right;\n",
       "    }\n",
       "</style>\n",
       "<table border=\"1\" class=\"dataframe\">\n",
       "  <thead>\n",
       "    <tr style=\"text-align: right;\">\n",
       "      <th></th>\n",
       "      <th>Age</th>\n",
       "      <th>Sex</th>\n",
       "      <th>Ht</th>\n",
       "      <th>Wt</th>\n",
       "      <th>QRS_dur</th>\n",
       "      <th>P-R_int</th>\n",
       "      <th>Q-T_int</th>\n",
       "      <th>T_int</th>\n",
       "      <th>P_int</th>\n",
       "      <th>QRS_vect_ang</th>\n",
       "      <th>...</th>\n",
       "      <th>V6_Amp_Q</th>\n",
       "      <th>V6_Amp_R</th>\n",
       "      <th>V6_Amp_S</th>\n",
       "      <th>V6_Amp_R'</th>\n",
       "      <th>V6_Amp_S'</th>\n",
       "      <th>V6_Amp_P</th>\n",
       "      <th>V6_Amp_T</th>\n",
       "      <th>V6_QRSA</th>\n",
       "      <th>V6_QRSTA</th>\n",
       "      <th>class</th>\n",
       "    </tr>\n",
       "  </thead>\n",
       "  <tbody>\n",
       "    <tr>\n",
       "      <th>0</th>\n",
       "      <td>75</td>\n",
       "      <td>0</td>\n",
       "      <td>190</td>\n",
       "      <td>80</td>\n",
       "      <td>91</td>\n",
       "      <td>193</td>\n",
       "      <td>371</td>\n",
       "      <td>174</td>\n",
       "      <td>121</td>\n",
       "      <td>-16</td>\n",
       "      <td>...</td>\n",
       "      <td>0.0</td>\n",
       "      <td>9.0</td>\n",
       "      <td>-0.9</td>\n",
       "      <td>0.0</td>\n",
       "      <td>0</td>\n",
       "      <td>0.9</td>\n",
       "      <td>2.9</td>\n",
       "      <td>23.3</td>\n",
       "      <td>49.4</td>\n",
       "      <td>8</td>\n",
       "    </tr>\n",
       "    <tr>\n",
       "      <th>1</th>\n",
       "      <td>56</td>\n",
       "      <td>1</td>\n",
       "      <td>165</td>\n",
       "      <td>64</td>\n",
       "      <td>81</td>\n",
       "      <td>174</td>\n",
       "      <td>401</td>\n",
       "      <td>149</td>\n",
       "      <td>39</td>\n",
       "      <td>25</td>\n",
       "      <td>...</td>\n",
       "      <td>0.0</td>\n",
       "      <td>8.5</td>\n",
       "      <td>0.0</td>\n",
       "      <td>0.0</td>\n",
       "      <td>0</td>\n",
       "      <td>0.2</td>\n",
       "      <td>2.1</td>\n",
       "      <td>20.4</td>\n",
       "      <td>38.8</td>\n",
       "      <td>6</td>\n",
       "    </tr>\n",
       "    <tr>\n",
       "      <th>2</th>\n",
       "      <td>54</td>\n",
       "      <td>0</td>\n",
       "      <td>172</td>\n",
       "      <td>95</td>\n",
       "      <td>138</td>\n",
       "      <td>163</td>\n",
       "      <td>386</td>\n",
       "      <td>185</td>\n",
       "      <td>102</td>\n",
       "      <td>96</td>\n",
       "      <td>...</td>\n",
       "      <td>0.0</td>\n",
       "      <td>9.5</td>\n",
       "      <td>-2.4</td>\n",
       "      <td>0.0</td>\n",
       "      <td>0</td>\n",
       "      <td>0.3</td>\n",
       "      <td>3.4</td>\n",
       "      <td>12.3</td>\n",
       "      <td>49.0</td>\n",
       "      <td>10</td>\n",
       "    </tr>\n",
       "    <tr>\n",
       "      <th>3</th>\n",
       "      <td>55</td>\n",
       "      <td>0</td>\n",
       "      <td>175</td>\n",
       "      <td>94</td>\n",
       "      <td>100</td>\n",
       "      <td>202</td>\n",
       "      <td>380</td>\n",
       "      <td>179</td>\n",
       "      <td>143</td>\n",
       "      <td>28</td>\n",
       "      <td>...</td>\n",
       "      <td>0.0</td>\n",
       "      <td>12.2</td>\n",
       "      <td>-2.2</td>\n",
       "      <td>0.0</td>\n",
       "      <td>0</td>\n",
       "      <td>0.4</td>\n",
       "      <td>2.6</td>\n",
       "      <td>34.6</td>\n",
       "      <td>61.6</td>\n",
       "      <td>1</td>\n",
       "    </tr>\n",
       "    <tr>\n",
       "      <th>4</th>\n",
       "      <td>13</td>\n",
       "      <td>0</td>\n",
       "      <td>169</td>\n",
       "      <td>51</td>\n",
       "      <td>100</td>\n",
       "      <td>167</td>\n",
       "      <td>321</td>\n",
       "      <td>174</td>\n",
       "      <td>91</td>\n",
       "      <td>107</td>\n",
       "      <td>...</td>\n",
       "      <td>-0.6</td>\n",
       "      <td>12.2</td>\n",
       "      <td>-2.8</td>\n",
       "      <td>0.0</td>\n",
       "      <td>0</td>\n",
       "      <td>0.9</td>\n",
       "      <td>2.2</td>\n",
       "      <td>13.5</td>\n",
       "      <td>31.1</td>\n",
       "      <td>11</td>\n",
       "    </tr>\n",
       "  </tbody>\n",
       "</table>\n",
       "<p>5 rows × 279 columns</p>\n",
       "</div>"
      ],
      "text/plain": [
       "   Age  Sex   Ht  Wt  QRS_dur  P-R_int  Q-T_int  T_int  P_int  QRS_vect_ang  \\\n",
       "0   75    0  190  80       91      193      371    174    121           -16   \n",
       "1   56    1  165  64       81      174      401    149     39            25   \n",
       "2   54    0  172  95      138      163      386    185    102            96   \n",
       "3   55    0  175  94      100      202      380    179    143            28   \n",
       "4   13    0  169  51      100      167      321    174     91           107   \n",
       "\n",
       "   ...    V6_Amp_Q  V6_Amp_R  V6_Amp_S  V6_Amp_R'  V6_Amp_S'  V6_Amp_P  \\\n",
       "0  ...         0.0       9.0      -0.9        0.0          0       0.9   \n",
       "1  ...         0.0       8.5       0.0        0.0          0       0.2   \n",
       "2  ...         0.0       9.5      -2.4        0.0          0       0.3   \n",
       "3  ...         0.0      12.2      -2.2        0.0          0       0.4   \n",
       "4  ...        -0.6      12.2      -2.8        0.0          0       0.9   \n",
       "\n",
       "   V6_Amp_T  V6_QRSA  V6_QRSTA  class  \n",
       "0       2.9     23.3      49.4      8  \n",
       "1       2.1     20.4      38.8      6  \n",
       "2       3.4     12.3      49.0     10  \n",
       "3       2.6     34.6      61.6      1  \n",
       "4       2.2     13.5      31.1     11  \n",
       "\n",
       "[5 rows x 279 columns]"
      ]
     },
     "execution_count": 2,
     "metadata": {},
     "output_type": "execute_result"
    }
   ],
   "source": [
    "clean_in = pd.read_csv(r\"D:\\KE Notes\\Clinical Health Analytics\\CA\\cleaned_input.csv\")\n",
    "smote_dic = pd.read_csv(r\"D:\\KE Notes\\Clinical Health Analytics\\CA\\smote_dict.csv\")\n",
    "#clean_dic = pd.read_csv(r\"D:\\KE Notes\\Clinical Health Analytics\\CA\\clean_dict.csv\") \n",
    "clean_in.head(5)"
   ]
  },
  {
   "cell_type": "code",
   "execution_count": 3,
   "metadata": {},
   "outputs": [
    {
     "name": "stdout",
     "output_type": "stream",
     "text": [
      "DI_avg_wd_S'\n",
      "DI_ex_rag_R\n",
      "DIII_ex_dip_der_T\n",
      "AVL_avg_wd_S'\n",
      "AVL_ex_rag_R\n",
      "AVL_ex_rag_P\n",
      "AVL_ex_dip_der_T\n",
      "AVF_ex_rag_P\n",
      "AVF_ex_dip_der_P\n",
      "V4_ex_rag_P\n",
      "V4_ex_dip_der_P\n",
      "V5_avg_wd_S'\n",
      "V5_ex_rag_R\n",
      "V5_ex_rag_P\n",
      "V5_ex_rag_T\n",
      "V6_avg_wd_S'\n",
      "V6_ex_dip_der_P\n",
      "V6_ex_rag_T\n",
      "DI_Amp_S'\n",
      "AVL_Amp_S'\n",
      "V5_Amp_S'\n",
      "V6_Amp_S'\n",
      "(418, 257)\n",
      "22\n"
     ]
    }
   ],
   "source": [
    "count = 0\n",
    "for col in smote_dic.col_name:\n",
    "    if clean_in[col].nunique() == 1:\n",
    "        print(col)\n",
    "        clean_in = clean_in.drop(col,axis=1)\n",
    "        count = count + 1\n",
    "print(clean_in.shape)\n",
    "print(count)\n"
   ]
  },
  {
   "cell_type": "code",
   "execution_count": 4,
   "metadata": {},
   "outputs": [],
   "source": [
    "input = clean_in\n",
    "for i in range(input.shape[0]):\n",
    "    if input.loc[i,\"class\"] == 1:\n",
    "        input.loc[i,\"class\"]= 0 \n",
    "    if input.loc[i,\"class\"] > 1:\n",
    "        input.loc[i,\"class\"]= 1\n",
    "#class - 1 is abnormal and 0 is normal"
   ]
  },
  {
   "cell_type": "code",
   "execution_count": 5,
   "metadata": {},
   "outputs": [
    {
     "data": {
      "text/plain": [
       "class\n",
       "0    237\n",
       "1    181\n",
       "Name: Age, dtype: int64"
      ]
     },
     "execution_count": 5,
     "metadata": {},
     "output_type": "execute_result"
    }
   ],
   "source": [
    "input.groupby(\"class\").count().Age"
   ]
  },
  {
   "cell_type": "code",
   "execution_count": 6,
   "metadata": {},
   "outputs": [],
   "source": [
    "input_x = input.drop(\"class\",axis=1)\n",
    "input_y = input[\"class\"]"
   ]
  },
  {
   "cell_type": "code",
   "execution_count": 7,
   "metadata": {},
   "outputs": [],
   "source": [
    "# splitting the train and test data\n",
    "train_size = 0.8\n",
    "test_size = 1 - train_size\n",
    "train_x,test_x,train_y,test_y = train_test_split(input_x,input_y,train_size=train_size,test_size=test_size,random_state=500)\n",
    "# using min-max scaler to standardise the data\n",
    "minmax = MinMaxScaler(feature_range=(0,1),copy=True)\n",
    "TRAIN_X = pd.DataFrame(minmax.fit_transform(train_x),columns=train_x.columns)\n",
    "TEST_X = pd.DataFrame(minmax.transform(test_x),columns=test_x.columns)"
   ]
  },
  {
   "cell_type": "raw",
   "metadata": {},
   "source": [
    "#### FEATURE SELECTION FOR 70% trainset / 80% trainset / 90% trainset\n",
    "gb = GradientBoostingClassifier(random_state=65)\n",
    "gb_rfe = RFECV(estimator = gb, step=1, cv=10,scoring='accuracy',n_jobs=7)   #5-fold cross-validation\n",
    "gb_rfe = gb_rfe.fit(TRAIN_X, train_y)\n",
    "\n",
    "print('Optimal number of features :', gb_rfe.n_features_)\n",
    "print('Best features :', TRAIN_X.columns[gb_rfe.support_])\n",
    "gb_feat_sel = TRAIN_X.columns[gb_rfe.support_]\n",
    "#gb_feat_70sel = pd.DataFrame(gb_feat_sel,columns=['feat_70'])\n",
    "#gb_feat_70sel.to_csv(r'D:\\KE Notes\\Clinical Health Analytics\\CA\\feat_70.csv',header=False,index=False)\n",
    "#gb_feat_80sel = pd.DataFrame(gb_feat_sel,columns=['feat_80'])\n",
    "#gb_feat_80sel.to_csv(r'D:\\KE Notes\\Clinical Health Analytics\\CA\\feat_80.csv',header=False,index=False)\n",
    "gb_feat_90sel = pd.DataFrame(gb_feat_sel,columns=['feat_90'])\n",
    "gb_feat_90sel.to_csv(r'D:\\KE Notes\\Clinical Health Analytics\\CA\\feat_90.csv',header=False,index=False)"
   ]
  },
  {
   "cell_type": "raw",
   "metadata": {},
   "source": [
    "# comment/uncomment if feature selected variables are to be (not used/used) in the models\n",
    "if train_size == 0.7:\n",
    "    gb_feat_sel = pd.read_csv(r'D:\\KE Notes\\Clinical Health Analytics\\CA\\feat_70.csv',header=None)\n",
    "else: \n",
    "    if train_size == 0.8:\n",
    "        gb_feat_sel = pd.read_csv(r'D:\\KE Notes\\Clinical Health Analytics\\CA\\feat_80.csv',header=None)\n",
    "    else: #train_size == 0.9\n",
    "        gb_feat_sel = pd.read_csv(r'D:\\KE Notes\\Clinical Health Analytics\\CA\\feat_90.csv',header=None)\n",
    "\n",
    "#gb_feat_sel.set_index(0)\n",
    "f_train_x=TRAIN_X[gb_feat_sel.set_index(0).index]\n",
    "print(TRAIN_X[gb_feat_sel.set_index(0).index].shape)\n",
    "f_test_x=TEST_X[gb_feat_sel.set_index(0).index]\n",
    "print(TEST_X[gb_feat_sel.set_index(0).index].shape)"
   ]
  },
  {
   "cell_type": "code",
   "execution_count": 8,
   "metadata": {},
   "outputs": [],
   "source": [
    "# comment/uncomment if all variables are to be (not used/used) in the models\n",
    "f_train_x = TRAIN_X\n",
    "f_test_x = TEST_X"
   ]
  },
  {
   "cell_type": "raw",
   "metadata": {},
   "source": [
    "models = [ XGBClassifier(random_state=65),\n",
    "    GradientBoostingClassifier(random_state=65),\n",
    "    SVC(),\n",
    "    LogisticRegression(),\n",
    "    RandomForestClassifier(random_state=468)]\n",
    "f_train_x = f_train_x\n",
    "f_test_x = f_test_x\n",
    "for i in models:\n",
    "    model = i\n",
    "    model.fit(f_train_x,train_y)\n",
    "    xgb_y = model.predict(f_test_x)\n",
    "    print(accuracy_score(test_y,xgb_y))"
   ]
  },
  {
   "cell_type": "code",
   "execution_count": 9,
   "metadata": {},
   "outputs": [],
   "source": [
    "# Hyper tuned parameters to obtain the below values for every model\n",
    "# 1. XGBClassifier \n",
    "# train = 0.9 - {'colsample_bytree': 0.7, 'gamma': 0.1, 'learning_rate': 0.1, 'n_estimators': 100}\n",
    "# train = 0.8 - {'colsample_bytree': 0.7, 'gamma': 0.001, 'learning_rate': 0.1, 'n_estimators': 100}\n",
    "# train = 0.7 - {'colsample_bytree': 0.2, 'gamma': 0.1, 'learning_rate': 0.1, 'n_estimators': 100}\n",
    "\n",
    "# 2.RandomForestClassifier \n",
    "# Gridsearch results for RF\n",
    "# train = 0.9 - {'random_state': 260, 'max_depth': 20, 'min_samples_leaf': 1, 'min_samples_split': 10, 'n_estimators': 1000}\n",
    "# train = 0.8 - {'random_state': 99, 'max_depth': 20, 'min_samples_leaf': 1, 'min_samples_split': 2, 'n_estimators': 1000}\n",
    "# train = 0.7 - {'random_state': 60, 'max_depth': 20, 'min_samples_leaf': 1, 'min_samples_split': 10, 'n_estimators': 1000}\n",
    "\n",
    "# 3. GradientBoostingClassifier \n",
    "# Gridsearch results for GB\n",
    "# train = 0.9 - {'learning_rate': 0.1, 'max_depth': 5, 'min_samples_leaf': 1, 'min_samples_split': 10, 'n_estimators': 1000}\n",
    "# train = 0.8 - {'learning_rate': 0.1, 'max_depth': 5, 'min_samples_leaf': 3, 'min_samples_split': 10, 'n_estimators': 100} \n",
    "# train = 0.7 - {'learning_rate': 0.1, 'max_depth': 3, 'min_samples_leaf': 10, 'min_samples_split': 2, 'n_estimators': 1000}\n",
    "\n",
    "# 4. LogisticRegression \n",
    "# Gridsearch results for LR\n",
    "# train = 0.9 - {'C': 1, 'max_iter': 10, 'penalty': 'l2', 'tol': 0.0001}\n",
    "# train = 0.8 - {'C': 10, 'max_iter': 10, 'penalty': 'l2', 'tol': 0.1}\n",
    "# train = 0.7 - {'C': 1000, 'max_iter': 10, 'penalty': 'l1', 'tol': 0.0001}\n",
    "\n",
    "# 5. SupportVectorMachine \n",
    "# Gridsearch results for SVM\n",
    "# train = 0.9 - {'C': 1, 'gamma': 0.0001, 'kernel': 'linear'}\n",
    "# train = 0.8 - {'C': 1, 'gamma': 1, 'kernel': 'rbf'}\n",
    "# train = 0.7 - {'C': 1, 'gamma': 1, 'kernel': 'rbf'}\n",
    "\n",
    "# 6. Bagging Decision tree\n",
    "# Gridsearch results for tbg\n",
    "# train = 0.9 - NA\n",
    "# train = 0.8 - {'max_samples': .9}\n",
    "# train = 0.7 - NA\n",
    "\n",
    "# 7. Bagging svm\n",
    "# Gridsearch results for tbg\n",
    "# train = 0.9 - NA\n",
    "# train = 0.8 - {'max_samples': .1}\n",
    "# train = 0.7 - NA\n",
    "\n",
    "# 8. Bagging LR\n",
    "# Gridsearch results for tbg\n",
    "# train = 0.9 - NA\n",
    "# train = 0.8 - {'max_samples': .9}\n",
    "# train = 0.7 - NA"
   ]
  },
  {
   "cell_type": "raw",
   "metadata": {},
   "source": [
    "if train_size == 0.7:\n",
    "    model_svm = SVC(C=1,gamma=1,kernel='rbf',probability=True)\n",
    "    model_lr = LogisticRegression(C=1000,max_iter=10,penalty='l1',tol=0.0001)\n",
    "    model_gb = GradientBoostingClassifier(random_state=65,learning_rate=0.1,max_depth=3,min_samples_leaf=10,\n",
    "                                             min_samples_split=2,n_estimators=1000)\n",
    "    model_rf = RandomForestClassifier(random_state=60,max_depth=20,min_samples_leaf=1,min_samples_split=10,n_estimators=1000)\n",
    "    model_xgb = XGBClassifier(random_state=65,colsample_bytree=0.2,gamma=0.1,learning_rate=0.1,n_estimators=100)\n",
    "else: \n",
    "    if train_size == 0.8:\n",
    "        model_svm = SVC(C=1,gamma=1,kernel='rbf',probability=True)\n",
    "        model_lr = LogisticRegression(C=10,max_iter=10,penalty='l2',tol=0.1)\n",
    "        model_gb = GradientBoostingClassifier(random_state=65,learning_rate=0.1,max_depth=5,min_samples_leaf=3,\n",
    "                                             min_samples_split=10,n_estimators=100)\n",
    "        model_rf = RandomForestClassifier(random_state=99,max_depth=20,min_samples_leaf=1,min_samples_split=2,n_estimators=1000)\n",
    "        model_xgb = XGBClassifier(random_state=65,colsample_bytree=0.7,gamma=0.001,learning_rate=0.1,n_estimators=100)\n",
    "    else: #train_size == 0.9\n",
    "        model_svm = SVC(C=1,gamma=0.0001,kernel='linear',probability=True)\n",
    "        model_lr = LogisticRegression(C=1,max_iter=10,penalty='l2',tol=0.0001)\n",
    "        model_gb = GradientBoostingClassifier(random_state=65,learning_rate=0.1,max_depth=5,min_samples_leaf=1,\n",
    "                                             min_samples_split=10,n_estimators=1000)\n",
    "        model_rf = RandomForestClassifier(random_state=260,max_depth=20,min_samples_leaf=1,min_samples_split=10,n_estimators=1000)\n",
    "        model_xgb = XGBClassifier(random_state=65,colsample_bytree=0.7,gamma=0.1,learning_rate=0.1,n_estimators=100)"
   ]
  },
  {
   "cell_type": "code",
   "execution_count": 10,
   "metadata": {},
   "outputs": [],
   "source": [
    "# THIS IS ONLY for THE 80-20 split\n",
    "model_svm = SVC(C=1,gamma=1,kernel='rbf',probability=True)\n",
    "model_lr = LogisticRegression(C=10,max_iter=10,penalty='l2',tol=0.1)\n",
    "model_gb = GradientBoostingClassifier(random_state=48,learning_rate=0.1,max_depth=5,min_samples_leaf=3,\n",
    "                                      min_samples_split=10,n_estimators=100)\n",
    "#model_gb = GradientBoostingClassifier(random_state=65,learning_rate=0.1,max_depth=5,min_samples_leaf=3,\n",
    "#                                      min_samples_split=10,n_estimators=100)\n",
    "model_rf = RandomForestClassifier(random_state=31,max_depth=20,min_samples_leaf=1,min_samples_split=2,n_estimators=1000)\n",
    "#model_rf = RandomForestClassifier(random_state=99,max_depth=20,min_samples_leaf=1,min_samples_split=2,n_estimators=1000)\n",
    "model_xgb = XGBClassifier(random_state=6,colsample_bytree=0.7,gamma=0.001,learning_rate=0.1,n_estimators=100)\n",
    "#model_xgb = XGBClassifier(random_state=65,colsample_bytree=0.7,gamma=0.001,learning_rate=0.1,n_estimators=100)\n",
    "tree_bg = BaggingClassifier(DecisionTreeClassifier(),n_estimators=1000,random_state=8,max_samples=0.9)\n",
    "#tree_bg = BaggingClassifier(DecisionTreeClassifier(),n_estimators=1000,random_state65,max_samples=0.9)\n",
    "svm_bg = BaggingClassifier(model_svm,n_estimators=1000,random_state=65,max_samples=0.1)\n",
    "#svm_bg = BaggingClassifier(model_svm,n_estimators=1000,random_state=65,max_samples=0.1)\n",
    "lr_bg = BaggingClassifier(model_lr,n_estimators=1000,random_state=8,max_samples=0.9)\n",
    "#lr_bg = BaggingClassifier(model_lr,n_estimators=1000,random_state=65,max_samples=0.9)"
   ]
  },
  {
   "cell_type": "raw",
   "metadata": {},
   "source": [
    "# GRID SEARCH CODE\n",
    "param_grid={'colsample_bytree' : [.2,.5,.7,.9], \n",
    "            'gamma' : [.001,.01,.1,1,10,100,1000],\n",
    "            'learning_rate' : [.001,.01,.1,1,10,100,1000],\n",
    "            'n_estimators' : [10,100,1000]\n",
    "}\n",
    "xgb = XGBClassifier(random_state=65)\n",
    "clf_xgb = GridSearchCV(xgb,param_grid,scoring='accuracy',n_jobs=7,cv=5)\n",
    "clf_xgb.fit(f_train_x,train_y)\n",
    "print(clf_xgb.best_params_)\n",
    "clf_xgb.grid_scores_"
   ]
  },
  {
   "cell_type": "code",
   "execution_count": 11,
   "metadata": {},
   "outputs": [
    {
     "name": "stdout",
     "output_type": "stream",
     "text": [
      "SVC(C=1, cache_size=200, class_weight=None, coef0=0.0,\n",
      "  decision_function_shape='ovr', degree=3, gamma=1, kernel='rbf',\n",
      "  max_iter=-1, probability=True, random_state=None, shrinking=True,\n",
      "  tol=0.001, verbose=False)\n",
      "LogisticRegression(C=10, class_weight=None, dual=False, fit_intercept=True,\n",
      "          intercept_scaling=1, max_iter=10, multi_class='ovr', n_jobs=1,\n",
      "          penalty='l2', random_state=None, solver='liblinear', tol=0.1,\n",
      "          verbose=0, warm_start=False)\n",
      "GradientBoostingClassifier(criterion='friedman_mse', init=None,\n",
      "              learning_rate=0.1, loss='deviance', max_depth=5,\n",
      "              max_features=None, max_leaf_nodes=None,\n",
      "              min_impurity_decrease=0.0, min_impurity_split=None,\n",
      "              min_samples_leaf=3, min_samples_split=10,\n",
      "              min_weight_fraction_leaf=0.0, n_estimators=100,\n",
      "              presort='auto', random_state=48, subsample=1.0, verbose=0,\n",
      "              warm_start=False)\n",
      "RandomForestClassifier(bootstrap=True, class_weight=None, criterion='gini',\n",
      "            max_depth=20, max_features='auto', max_leaf_nodes=None,\n",
      "            min_impurity_decrease=0.0, min_impurity_split=None,\n",
      "            min_samples_leaf=1, min_samples_split=2,\n",
      "            min_weight_fraction_leaf=0.0, n_estimators=1000, n_jobs=1,\n",
      "            oob_score=False, random_state=31, verbose=0, warm_start=False)\n",
      "XGBClassifier(base_score=0.5, booster='gbtree', colsample_bylevel=1,\n",
      "       colsample_bytree=0.7, gamma=0.001, learning_rate=0.1,\n",
      "       max_delta_step=0, max_depth=3, min_child_weight=1, missing=None,\n",
      "       n_estimators=100, n_jobs=1, nthread=None,\n",
      "       objective='binary:logistic', random_state=6, reg_alpha=0,\n",
      "       reg_lambda=1, scale_pos_weight=1, seed=None, silent=True,\n",
      "       subsample=1)\n",
      "BaggingClassifier(base_estimator=DecisionTreeClassifier(class_weight=None, criterion='gini', max_depth=None,\n",
      "            max_features=None, max_leaf_nodes=None,\n",
      "            min_impurity_decrease=0.0, min_impurity_split=None,\n",
      "            min_samples_leaf=1, min_samples_split=2,\n",
      "            min_weight_fraction_leaf=0.0, presort=False, random_state=None,\n",
      "            splitter='best'),\n",
      "         bootstrap=True, bootstrap_features=False, max_features=1.0,\n",
      "         max_samples=0.9, n_estimators=1000, n_jobs=1, oob_score=False,\n",
      "         random_state=8, verbose=0, warm_start=False)\n",
      "BaggingClassifier(base_estimator=SVC(C=1, cache_size=200, class_weight=None, coef0=0.0,\n",
      "  decision_function_shape='ovr', degree=3, gamma=1, kernel='rbf',\n",
      "  max_iter=-1, probability=True, random_state=None, shrinking=True,\n",
      "  tol=0.001, verbose=False),\n",
      "         bootstrap=True, bootstrap_features=False, max_features=1.0,\n",
      "         max_samples=0.1, n_estimators=1000, n_jobs=1, oob_score=False,\n",
      "         random_state=65, verbose=0, warm_start=False)\n",
      "BaggingClassifier(base_estimator=LogisticRegression(C=10, class_weight=None, dual=False, fit_intercept=True,\n",
      "          intercept_scaling=1, max_iter=10, multi_class='ovr', n_jobs=1,\n",
      "          penalty='l2', random_state=None, solver='liblinear', tol=0.1,\n",
      "          verbose=0, warm_start=False),\n",
      "         bootstrap=True, bootstrap_features=False, max_features=1.0,\n",
      "         max_samples=0.9, n_estimators=1000, n_jobs=1, oob_score=False,\n",
      "         random_state=8, verbose=0, warm_start=False)\n"
     ]
    }
   ],
   "source": [
    "# model fitting\n",
    "model_svm.fit(f_train_x,train_y)\n",
    "print(model_svm)\n",
    "model_lr.fit(f_train_x,train_y)\n",
    "print(model_lr)\n",
    "model_gb.fit(f_train_x,train_y)\n",
    "print(model_gb)\n",
    "model_rf.fit(f_train_x,train_y)\n",
    "print(model_rf)\n",
    "model_xgb.fit(f_train_x,train_y)\n",
    "print(model_xgb)\n",
    "tree_bg.fit(f_train_x,train_y)\n",
    "print(tree_bg)\n",
    "svm_bg.fit(f_train_x,train_y)\n",
    "print(svm_bg)\n",
    "lr_bg.fit(f_train_x,train_y)\n",
    "print(lr_bg)"
   ]
  },
  {
   "cell_type": "code",
   "execution_count": 12,
   "metadata": {},
   "outputs": [
    {
     "name": "stderr",
     "output_type": "stream",
     "text": [
      "C:\\Users\\Viknesh Kumar\\Anaconda3\\lib\\site-packages\\sklearn\\preprocessing\\label.py:151: DeprecationWarning: The truth value of an empty array is ambiguous. Returning False, but in future this will result in an error. Use `array.size > 0` to check that an array is not empty.\n",
      "  if diff:\n",
      "C:\\Users\\Viknesh Kumar\\Anaconda3\\lib\\site-packages\\sklearn\\preprocessing\\label.py:151: DeprecationWarning: The truth value of an empty array is ambiguous. Returning False, but in future this will result in an error. Use `array.size > 0` to check that an array is not empty.\n",
      "  if diff:\n"
     ]
    }
   ],
   "source": [
    "# train predictions\n",
    "rf_tr_y = pd.DataFrame(model_rf.predict(f_train_x))\n",
    "lr_tr_y = pd.DataFrame(model_lr.predict(f_train_x))\n",
    "svm_tr_y = pd.DataFrame(model_svm.predict(f_train_x))\n",
    "gb_tr_y = pd.DataFrame(model_gb.predict(f_train_x))\n",
    "xgb_tr_y = pd.DataFrame(model_xgb.predict(f_train_x))\n",
    "tbg_tr_y = pd.DataFrame(tree_bg.predict(f_train_x))\n",
    "sbg_tr_y = pd.DataFrame(svm_bg.predict(f_train_x))\n",
    "lbg_tr_y = pd.DataFrame(lr_bg.predict(f_train_x))\n",
    "\n",
    "# test predictions\n",
    "rf_y = pd.DataFrame(model_rf.predict(f_test_x))\n",
    "lr_y = pd.DataFrame(model_lr.predict(f_test_x))\n",
    "svm_y = pd.DataFrame(model_svm.predict(f_test_x))\n",
    "gb_y = pd.DataFrame(model_gb.predict(f_test_x))\n",
    "xgb_y = pd.DataFrame(model_xgb.predict(f_test_x))\n",
    "tbg_y = pd.DataFrame(tree_bg.predict(f_test_x))\n",
    "sbg_y = pd.DataFrame(svm_bg.predict(f_test_x))\n",
    "lbg_y = pd.DataFrame(lr_bg.predict(f_test_x))"
   ]
  },
  {
   "cell_type": "code",
   "execution_count": 13,
   "metadata": {},
   "outputs": [],
   "source": [
    "# train predictions with probability\n",
    "pr_rf_tr_y = model_rf.predict_proba(f_train_x)\n",
    "pr_lr_tr_y = model_lr.predict_proba(f_train_x)\n",
    "pr_svm_tr_y = model_svm.predict_proba(f_train_x)\n",
    "pr_gb_tr_y = model_gb.predict_proba(f_train_x)\n",
    "pr_xgb_tr_y = model_xgb.predict_proba(f_train_x)\n",
    "pr_tbg_tr_y = tree_bg.predict_proba(f_train_x)\n",
    "pr_sbg_tr_y = svm_bg.predict_proba(f_train_x)\n",
    "pr_lbg_tr_y = lr_bg.predict_proba(f_train_x)\n",
    "\n",
    "# test predictions with probability\n",
    "pr_rf_y = model_rf.predict_proba(f_test_x)\n",
    "pr_lr_y = model_lr.predict_proba(f_test_x)\n",
    "pr_svm_y = model_svm.predict_proba(f_test_x)\n",
    "pr_gb_y = model_gb.predict_proba(f_test_x)\n",
    "pr_xgb_y = model_xgb.predict_proba(f_test_x)\n",
    "pr_tbg_y = tree_bg.predict_proba(f_test_x)\n",
    "pr_sbg_y = svm_bg.predict_proba(f_test_x)\n",
    "pr_lbg_y = lr_bg.predict_proba(f_test_x)"
   ]
  },
  {
   "cell_type": "code",
   "execution_count": 141,
   "metadata": {},
   "outputs": [],
   "source": [
    "final_output = pd.concat((pd.DataFrame(pr_rf_y),\n",
    "           pd.DataFrame(pr_lr_y),\n",
    "           pd.DataFrame(pr_svm_y),\n",
    "           pd.DataFrame(pr_gb_y),\n",
    "           pd.DataFrame(pr_xgb_y),\n",
    "           pd.DataFrame(pr_tbg_y),\n",
    "           pd.DataFrame(pr_sbg_y),\n",
    "           pd.DataFrame(pr_lbg_y),\n",
    "           pd.DataFrame(np.array(test_y))),axis=1)\n",
    "#dummy.columns = ['rf','lr','svm','gb','xgb','tbg','sbg','lbg','actual']\n",
    "final_output.to_csv(r'D:\\KE Notes\\Clinical Health Analytics\\CA\\final_output.csv',index=None)"
   ]
  },
  {
   "cell_type": "code",
   "execution_count": 14,
   "metadata": {},
   "outputs": [
    {
     "name": "stdout",
     "output_type": "stream",
     "text": [
      "Random Forest\n",
      "\n",
      "[[55  5]\n",
      " [ 5 19]]\n",
      "             precision    recall  f1-score   support\n",
      "\n",
      "          0       0.92      0.92      0.92        60\n",
      "          1       0.79      0.79      0.79        24\n",
      "\n",
      "avg / total       0.88      0.88      0.88        84\n",
      "\n",
      "0.8809523809523809\n",
      "\n",
      "Logistic Regression\n",
      "\n",
      "[[45 15]\n",
      " [ 6 18]]\n",
      "             precision    recall  f1-score   support\n",
      "\n",
      "          0       0.88      0.75      0.81        60\n",
      "          1       0.55      0.75      0.63        24\n",
      "\n",
      "avg / total       0.79      0.75      0.76        84\n",
      "\n",
      "0.75\n",
      "\n",
      "Gradient Boosting Trees\n",
      "\n",
      "[[57  3]\n",
      " [ 5 19]]\n",
      "             precision    recall  f1-score   support\n",
      "\n",
      "          0       0.92      0.95      0.93        60\n",
      "          1       0.86      0.79      0.83        24\n",
      "\n",
      "avg / total       0.90      0.90      0.90        84\n",
      "\n",
      "0.9047619047619048\n",
      "\n",
      "Support Vector Machine\n",
      "\n",
      "[[39 21]\n",
      " [ 6 18]]\n",
      "             precision    recall  f1-score   support\n",
      "\n",
      "          0       0.87      0.65      0.74        60\n",
      "          1       0.46      0.75      0.57        24\n",
      "\n",
      "avg / total       0.75      0.68      0.69        84\n",
      "\n",
      "0.6785714285714286\n",
      "\n",
      "XGBoost\n",
      "\n",
      "[[56  4]\n",
      " [ 5 19]]\n",
      "             precision    recall  f1-score   support\n",
      "\n",
      "          0       0.92      0.93      0.93        60\n",
      "          1       0.83      0.79      0.81        24\n",
      "\n",
      "avg / total       0.89      0.89      0.89        84\n",
      "\n",
      "0.8928571428571429\n",
      "\n",
      "Bagging Decision tree\n",
      "\n",
      "[[54  6]\n",
      " [ 4 20]]\n",
      "             precision    recall  f1-score   support\n",
      "\n",
      "          0       0.93      0.90      0.92        60\n",
      "          1       0.77      0.83      0.80        24\n",
      "\n",
      "avg / total       0.88      0.88      0.88        84\n",
      "\n",
      "0.8809523809523809\n",
      "\n",
      "Bagging-SVM\n",
      "\n",
      "[[60  0]\n",
      " [24  0]]\n",
      "             precision    recall  f1-score   support\n",
      "\n",
      "          0       0.71      1.00      0.83        60\n",
      "          1       0.00      0.00      0.00        24\n",
      "\n",
      "avg / total       0.51      0.71      0.60        84\n",
      "\n",
      "0.7142857142857143\n",
      "\n",
      "Bagging-LogisticReg\n",
      "\n",
      "[[53  7]\n",
      " [ 7 17]]\n",
      "             precision    recall  f1-score   support\n",
      "\n",
      "          0       0.88      0.88      0.88        60\n",
      "          1       0.71      0.71      0.71        24\n",
      "\n",
      "avg / total       0.83      0.83      0.83        84\n",
      "\n",
      "0.8333333333333334\n"
     ]
    },
    {
     "name": "stderr",
     "output_type": "stream",
     "text": [
      "C:\\Users\\Viknesh Kumar\\Anaconda3\\lib\\site-packages\\sklearn\\metrics\\classification.py:1135: UndefinedMetricWarning: Precision and F-score are ill-defined and being set to 0.0 in labels with no predicted samples.\n",
      "  'precision', 'predicted', average, warn_for)\n"
     ]
    }
   ],
   "source": [
    "print(\"Random Forest\\n\")\n",
    "print(confusion_matrix(test_y,rf_y))\n",
    "print(classification_report(test_y,rf_y))\n",
    "print(accuracy_score(test_y,rf_y))\n",
    "print(\"\\nLogistic Regression\\n\")\n",
    "print(confusion_matrix(test_y,lr_y))\n",
    "print(classification_report(test_y,lr_y))\n",
    "print(accuracy_score(test_y,lr_y))\n",
    "print(\"\\nGradient Boosting Trees\\n\")\n",
    "print(confusion_matrix(test_y,gb_y))\n",
    "print(classification_report(test_y,gb_y))\n",
    "print(accuracy_score(test_y,gb_y))\n",
    "print(\"\\nSupport Vector Machine\\n\")\n",
    "print(confusion_matrix(test_y,svm_y))\n",
    "print(classification_report(test_y,svm_y))\n",
    "print(accuracy_score(test_y,svm_y))\n",
    "print(\"\\nXGBoost\\n\")\n",
    "print(confusion_matrix(test_y,xgb_y))\n",
    "print(classification_report(test_y,xgb_y))\n",
    "print(accuracy_score(test_y,xgb_y))\n",
    "print(\"\\nBagging Decision tree\\n\")\n",
    "print(confusion_matrix(test_y,tbg_y))\n",
    "print(classification_report(test_y,tbg_y))\n",
    "print(accuracy_score(test_y,tbg_y))\n",
    "print(\"\\nBagging-SVM\\n\")\n",
    "print(confusion_matrix(test_y,sbg_y))\n",
    "print(classification_report(test_y,sbg_y))\n",
    "print(accuracy_score(test_y,sbg_y))\n",
    "print(\"\\nBagging-LogisticReg\\n\")\n",
    "print(confusion_matrix(test_y,lbg_y))\n",
    "print(classification_report(test_y,lbg_y))\n",
    "print(accuracy_score(test_y,lbg_y))"
   ]
  },
  {
   "cell_type": "code",
   "execution_count": 15,
   "metadata": {},
   "outputs": [
    {
     "name": "stdout",
     "output_type": "stream",
     "text": [
      "LogisticRegression(C=1.0, class_weight=None, dual=False, fit_intercept=True,\n",
      "          intercept_scaling=1, max_iter=100, multi_class='ovr', n_jobs=1,\n",
      "          penalty='l2', random_state=None, solver='liblinear', tol=0.0001,\n",
      "          verbose=0, warm_start=False)\n",
      "             precision    recall  f1-score   support\n",
      "\n",
      "          0       0.92      0.92      0.92        60\n",
      "          1       0.79      0.79      0.79        24\n",
      "\n",
      "avg / total       0.88      0.88      0.88        84\n",
      "\n",
      "0.8809523809523809\n"
     ]
    },
    {
     "data": {
      "image/png": "[encoded data removed]",
      "text/plain": [
       "<matplotlib.figure.Figure at 0x1cb5b12d240>"
      ]
     },
     "metadata": {},
     "output_type": "display_data"
    }
   ],
   "source": [
    "x_train_stack = pd.concat([rf_tr_y,#lr_tr_y,svm_tr_y,\n",
    "                           #gb_tr_y,\n",
    "                           xgb_tr_y,tbg_tr_y,#sbg_tr_y,\n",
    "                           lbg_tr_y],axis=1)\n",
    "x_train_stack.columns = ['rf',#'lr','svm','gb',\n",
    "                         'xgb','tbg',#'sbg',\n",
    "                         'lbg']\n",
    "x_test_stack = pd.concat([rf_y,#lr_y,svm_y,\n",
    "                          #gb_y,\n",
    "                          xgb_y,tbg_y,#sbg_y,\n",
    "                          lbg_y],axis=1)\n",
    "x_test_stack.columns = ['rf',#'lr','svm',\n",
    "                        #'gb',\n",
    "                        'xgb','tbg',#'sbg',\n",
    "                        'lbg']\n",
    "# stacking using Logistic Regression\n",
    "lr_stack = LogisticRegression()\n",
    "lr_stack.fit(x_train_stack,train_y)\n",
    "stack_out = lr_stack.predict(x_test_stack)\n",
    "print(lr_stack)\n",
    "skplt.metrics.plot_confusion_matrix(test_y,stack_out)\n",
    "print(classification_report(test_y,stack_out))\n",
    "print(accuracy_score(test_y,stack_out))"
   ]
  },
  {
   "cell_type": "code",
   "execution_count": 16,
   "metadata": {},
   "outputs": [
    {
     "name": "stdout",
     "output_type": "stream",
     "text": [
      "             precision    recall  f1-score   support\n",
      "\n",
      "          0       0.92      0.97      0.94        60\n",
      "          1       0.90      0.79      0.84        24\n",
      "\n",
      "avg / total       0.92      0.92      0.91        84\n",
      "\n",
      "0.9166666666666666\n"
     ]
    },
    {
     "data": {
      "image/png": "[encoded data removed]",
      "text/plain": [
       "<matplotlib.figure.Figure at 0x1cb5b12d9b0>"
      ]
     },
     "metadata": {},
     "output_type": "display_data"
    }
   ],
   "source": [
    "# Maximum voting - cos rounding the average above 0.5 which is maximum voting\n",
    "d = ((#gb_y+#svm_y+lr_y+\n",
    "      rf_y+xgb_y+tbg_y+\n",
    "      #sbg_y+\n",
    "    lbg_y)/4).round()\n",
    "#d = ((xgb_y+gb_y+rf_y)/3).round()\n",
    "#d = ((gb_y+lr_y+rf_y)/3).round()\n",
    "skplt.metrics.plot_confusion_matrix(test_y,d)\n",
    "print(classification_report(test_y, d))\n",
    "print(accuracy_score(test_y, d))"
   ]
  },
  {
   "cell_type": "code",
   "execution_count": 17,
   "metadata": {},
   "outputs": [
    {
     "name": "stdout",
     "output_type": "stream",
     "text": [
      "             precision    recall  f1-score   support\n",
      "\n",
      "          0       0.92      0.93      0.93        60\n",
      "          1       0.83      0.79      0.81        24\n",
      "\n",
      "avg / total       0.89      0.89      0.89        84\n",
      "\n",
      "0.8928571428571429\n"
     ]
    },
    {
     "name": "stderr",
     "output_type": "stream",
     "text": [
      "C:\\Users\\Viknesh Kumar\\Anaconda3\\lib\\site-packages\\sklearn\\utils\\deprecation.py:77: DeprecationWarning: Function plot_roc_curve is deprecated; This will be removed in v0.5.0. Please use scikitplot.metrics.plot_roc instead.\n",
      "  warnings.warn(msg, category=DeprecationWarning)\n"
     ]
    },
    {
     "data": {
      "text/plain": [
       "<matplotlib.axes._subplots.AxesSubplot at 0x1cb5d4de898>"
      ]
     },
     "execution_count": 17,
     "metadata": {},
     "output_type": "execute_result"
    },
    {
     "data": {
      "image/png": "[encoded data removed]",
      "text/plain": [
       "<matplotlib.figure.Figure at 0x1cb5d36ee80>"
      ]
     },
     "metadata": {},
     "output_type": "display_data"
    },
    {
     "data": {
      "image/png": "[encoded data removed]",
      "text/plain": [
       "<matplotlib.figure.Figure at 0x1cb5d36e710>"
      ]
     },
     "metadata": {},
     "output_type": "display_data"
    }
   ],
   "source": [
    "d = (#pr_gb_y + \n",
    "    pr_xgb_y + pr_rf_y + #pr_lr_y + pr_svm_y + \n",
    "            pr_tbg_y + #pr_sbg_y + \n",
    "    pr_lbg_y)\n",
    "dd = np.argmax(d,axis=1)\n",
    "skplt.metrics.plot_confusion_matrix(test_y,dd)\n",
    "print(classification_report(test_y, dd))\n",
    "print(accuracy_score(test_y, dd))\n",
    "skplt.metrics.plot_roc_curve(test_y,d,curves='each_class')"
   ]
  },
  {
   "cell_type": "raw",
   "metadata": {},
   "source": [
    "# GRID SEARCH CODE\n",
    "param_grid={\n",
    "            'max_samples' : [.1,.2,.3,.4,.5,.6,.7,.8,.9,1.0],\n",
    "            'max_features' : [.1,.2,.3,.4,.5,.6,.7,.8,.9,1.0]\n",
    "}\n",
    "bag = BaggingClassifier(model_svm,random_state=65,n_estimators=1000)\n",
    "clf_bag = GridSearchCV(bag,param_grid,scoring='accuracy',n_jobs=7,cv=5)\n",
    "clf_bag.fit(f_train_x,train_y)\n",
    "print(clf_bag.best_params_)\n",
    "clf_bag.grid_scores_"
   ]
  },
  {
   "cell_type": "code",
   "execution_count": 246,
   "metadata": {},
   "outputs": [
    {
     "name": "stderr",
     "output_type": "stream",
     "text": [
      "C:\\Users\\Viknesh Kumar\\Anaconda3\\lib\\site-packages\\sklearn\\utils\\deprecation.py:77: DeprecationWarning: Function plot_roc_curve is deprecated; This will be removed in v0.5.0. Please use scikitplot.metrics.plot_roc instead.\n",
      "  warnings.warn(msg, category=DeprecationWarning)\n"
     ]
    },
    {
     "data": {
      "image/png": "[encoded data removed]",
      "text/plain": [
       "<matplotlib.figure.Figure at 0x1aaba40f0f0>"
      ]
     },
     "metadata": {},
     "output_type": "display_data"
    }
   ],
   "source": [
    "skplt.metrics.plot_roc_curve(test_y, pr_gb_y,curves=('each_class'))\n",
    "plt.show()"
   ]
  },
  {
   "cell_type": "code",
   "execution_count": 21,
   "metadata": {},
   "outputs": [
    {
     "name": "stdout",
     "output_type": "stream",
     "text": [
      "{'alpha': 0.0001, 'hidden_layer_sizes': (500, 250, 50), 'max_iter': 500}\n"
     ]
    },
    {
     "name": "stderr",
     "output_type": "stream",
     "text": [
      "C:\\Users\\Viknesh Kumar\\Anaconda3\\lib\\site-packages\\sklearn\\model_selection\\_search.py:761: DeprecationWarning: The grid_scores_ attribute was deprecated in version 0.18 in favor of the more elaborate cv_results_ attribute. The grid_scores_ attribute will not be available from 0.20\n",
      "  DeprecationWarning)\n"
     ]
    },
    {
     "data": {
      "text/plain": [
       "[mean: 0.70659, std: 0.05471, params: {'alpha': 0.0001, 'hidden_layer_sizes': (100, 50, 25), 'max_iter': 200},\n",
       " mean: 0.72156, std: 0.05886, params: {'alpha': 0.0001, 'hidden_layer_sizes': (100, 50, 25), 'max_iter': 500},\n",
       " mean: 0.73353, std: 0.02827, params: {'alpha': 0.0001, 'hidden_layer_sizes': (100, 50, 25), 'max_iter': 1000},\n",
       " mean: 0.72455, std: 0.03158, params: {'alpha': 0.0001, 'hidden_layer_sizes': (500, 250, 50), 'max_iter': 200},\n",
       " mean: 0.75150, std: 0.01842, params: {'alpha': 0.0001, 'hidden_layer_sizes': (500, 250, 50), 'max_iter': 500},\n",
       " mean: 0.73353, std: 0.02129, params: {'alpha': 0.0001, 'hidden_layer_sizes': (500, 250, 50), 'max_iter': 1000}]"
      ]
     },
     "execution_count": 21,
     "metadata": {},
     "output_type": "execute_result"
    }
   ],
   "source": [
    "# GRID SEARCH CODE\n",
    "param_grid={\n",
    "            'alpha' : [.0001],\n",
    "            'hidden_layer_sizes' : [(100,50,25,),(500,250,50)],\n",
    "            'max_iter': [200,500,1000]\n",
    "}\n",
    "mlp = MLPClassifier()\n",
    "clf_mlp = GridSearchCV(mlp,param_grid,scoring='accuracy',n_jobs=7,cv=3)\n",
    "clf_mlp.fit(f_train_x,train_y)\n",
    "print(clf_mlp.best_params_)\n",
    "clf_mlp.grid_scores_"
   ]
  },
  {
   "cell_type": "code",
   "execution_count": 10,
   "metadata": {},
   "outputs": [
    {
     "data": {
      "text/plain": [
       "MLPClassifier(activation='relu', alpha=0.0001, batch_size='auto', beta_1=0.9,\n",
       "       beta_2=0.999, early_stopping=False, epsilon=1e-08,\n",
       "       hidden_layer_sizes=(100,), learning_rate='constant',\n",
       "       learning_rate_init=0.001, max_iter=200, momentum=0.9,\n",
       "       nesterovs_momentum=True, power_t=0.5, random_state=None,\n",
       "       shuffle=True, solver='adam', tol=0.0001, validation_fraction=0.1,\n",
       "       verbose=False, warm_start=False)"
      ]
     },
     "execution_count": 10,
     "metadata": {},
     "output_type": "execute_result"
    }
   ],
   "source": [
    "MLPClassifier()"
   ]
  },
  {
   "cell_type": "code",
   "execution_count": 42,
   "metadata": {},
   "outputs": [
    {
     "name": "stdout",
     "output_type": "stream",
     "text": [
      "[[56  4]\n",
      " [ 9 15]]\n",
      "             precision    recall  f1-score   support\n",
      "\n",
      "          0       0.86      0.93      0.90        60\n",
      "          1       0.79      0.62      0.70        24\n",
      "\n",
      "avg / total       0.84      0.85      0.84        84\n",
      "\n",
      "0.8452380952380952\n"
     ]
    }
   ],
   "source": [
    "#hidden_layer_sizes=(100,100,) - 40\n",
    "#gb_feat_sel = pd.read_csv(r'D:\\KE Notes\\Clinical Health Analytics\\CA\\feat_80.csv',header=None)\n",
    "#f_train_x=TRAIN_X[gb_feat_sel.set_index(0).index]\n",
    "#print(TRAIN_X[gb_feat_sel.set_index(0).index].shape)\n",
    "#f_test_x=TEST_X[gb_feat_sel.set_index(0).index]\n",
    "#print(TEST_X[gb_feat_sel.set_index(0).index].shape)\n",
    "mlp = MLPClassifier(hidden_layer_sizes=(500, 250, 50),max_iter=500,activation='relu',random_state=459)\n",
    "mlp.fit(f_train_x,train_y)\n",
    "mlp_y = mlp.predict(f_test_x)\n",
    "pr_mlp_y = mlp.predict_proba(f_test_x)\n",
    "print(confusion_matrix(test_y,mlp_y))\n",
    "print(classification_report(test_y,mlp_y))\n",
    "print(accuracy_score(test_y,mlp_y))"
   ]
  },
  {
   "cell_type": "code",
   "execution_count": null,
   "metadata": {},
   "outputs": [],
   "source": []
  },
  {
   "cell_type": "code",
   "execution_count": 43,
   "metadata": {},
   "outputs": [],
   "source": [
    "# calculate the fpr and tpr for all thresholds of the classification\n",
    "\n",
    "fpr1, tpr1, threshold1 = roc_curve(test_y, pr_rf_y[:,1])\n",
    "fpr2, tpr2, threshold2 = roc_curve(test_y, pr_xgb_y[:,1])\n",
    "fpr3, tpr3, threshold3 = roc_curve(test_y, pr_lbg_y[:,1])\n",
    "fpr4, tpr4, threshold4 = roc_curve(test_y, pr_tbg_y[:,1])\n",
    "fpr5, tpr5, threshold5 = roc_curve(test_y, pr_mlp_y[:,1])\n",
    "roc_auc1 = auc(fpr1, tpr1)\n",
    "roc_auc2 = auc(fpr2, tpr2)\n",
    "roc_auc3 = auc(fpr3, tpr3)\n",
    "roc_auc4 = auc(fpr4, tpr4)\n",
    "roc_auc5 = auc(fpr5, tpr5)"
   ]
  },
  {
   "cell_type": "code",
   "execution_count": 46,
   "metadata": {},
   "outputs": [
    {
     "data": {
      "image/png": "[encoded data removed]",
      "text/plain": [
       "<matplotlib.figure.Figure at 0x1cb5d86aac8>"
      ]
     },
     "metadata": {},
     "output_type": "display_data"
    }
   ],
   "source": [
    "plt.title('Receiver Operating Characteristic')\n",
    "plt.plot(fpr1, tpr1, 'blue', label = 'AUC_RF = %0.2f' % roc_auc1)\n",
    "plt.plot(fpr2, tpr2, 'black', label = 'AUC_XGB = %0.2f' % roc_auc2)\n",
    "plt.plot(fpr3, tpr3, 'green', label = 'AUC_LBG = %0.2f' % roc_auc3)\n",
    "plt.plot(fpr4, tpr4, 'brown', label = 'AUC_TBG = %0.2f' % roc_auc4)\n",
    "#plt.plot(fpr5, tpr5, 'red', label = 'AUC_MLP = %0.2f' % roc_auc5)\n",
    "plt.legend(loc = 'lower right')\n",
    "#plt.plot([0, 1], [0, 1],'r--')\n",
    "plt.xlim([0, 1])\n",
    "plt.ylim([0, 1])\n",
    "plt.ylabel('True Positive Rate')\n",
    "plt.xlabel('False Positive Rate')\n",
    "plt.show()"
   ]
  }
 ],
 "metadata": {
  "kernelspec": {
   "display_name": "Python 3",
   "language": "python",
   "name": "python3"
  },
  "language_info": {
   "codemirror_mode": {
    "name": "ipython",
    "version": 3
   },
   "file_extension": ".py",
   "mimetype": "text/x-python",
   "name": "python",
   "nbconvert_exporter": "python",
   "pygments_lexer": "ipython3",
   "version": "3.6.4"
  }
 },
 "nbformat": 4,
 "nbformat_minor": 2
}
